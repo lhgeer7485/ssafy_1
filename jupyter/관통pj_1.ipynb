{
 "cells": [
  {
   "cell_type": "markdown",
   "id": "36b92e8b",
   "metadata": {},
   "source": [
    "## `m` : 마크다운 모드\n",
    "## `y` : 코드모드\n",
    "## `a` : 커서 기준위에 쉘 하나 추가\n",
    "## `b` : 커서 기준 아래에 쉘 하나 추가\n",
    "## `dd` : 쉘 삭제\n",
    "## `shift + enter` : 실행 후 커서를 아래로 이동\n",
    "## `ctrl + enter` : 실행 후 커서를 제자리에"
   ]
  },
  {
   "cell_type": "code",
   "execution_count": 19,
   "id": "40ecf259",
   "metadata": {},
   "outputs": [],
   "source": [
    "API_KEY = 'c6acc24f126ffeef4cc7f144ca661c82'"
   ]
  },
  {
   "cell_type": "code",
   "execution_count": 20,
   "id": "0083ca5f",
   "metadata": {},
   "outputs": [],
   "source": [
    "lat = 37.56\n",
    "lon = 126.97\n",
    "url = f'https://api.openweathermap.org/data/2.5/weather?lat={lat}&lon={lon}&appid={API_KEY}'"
   ]
  },
  {
   "cell_type": "code",
   "execution_count": 21,
   "id": "5c4abbfe",
   "metadata": {},
   "outputs": [
    {
     "data": {
      "text/plain": [
       "{'coord': {'lon': 126.97, 'lat': 37.56},\n",
       " 'weather': [{'id': 721,\n",
       "   'main': 'Haze',\n",
       "   'description': 'haze',\n",
       "   'icon': '50d'}],\n",
       " 'base': 'stations',\n",
       " 'main': {'temp': 303.49,\n",
       "  'feels_like': 308.02,\n",
       "  'temp_min': 302.93,\n",
       "  'temp_max': 304.03,\n",
       "  'pressure': 1012,\n",
       "  'humidity': 66},\n",
       " 'visibility': 6000,\n",
       " 'wind': {'speed': 1.54, 'deg': 170},\n",
       " 'clouds': {'all': 20},\n",
       " 'dt': 1689903942,\n",
       " 'sys': {'type': 1,\n",
       "  'id': 8105,\n",
       "  'country': 'KR',\n",
       "  'sunrise': 1689884785,\n",
       "  'sunset': 1689936611},\n",
       " 'timezone': 32400,\n",
       " 'id': 1835848,\n",
       " 'name': 'Seoul',\n",
       " 'cod': 200}"
      ]
     },
     "execution_count": 21,
     "metadata": {},
     "output_type": "execute_result"
    }
   ],
   "source": [
    "import requests\n",
    "response = requests.get(url).json()\n",
    "response"
   ]
  },
  {
   "cell_type": "code",
   "execution_count": 26,
   "id": "9aa46443",
   "metadata": {},
   "outputs": [],
   "source": [
    "city_name = 'Seoul,KR'\n",
    "url = f'https://api.openweathermap.org/data/2.5/weather?q={city_name}&appid={API_KEY}'"
   ]
  },
  {
   "cell_type": "code",
   "execution_count": 27,
   "id": "1daba782",
   "metadata": {},
   "outputs": [
    {
     "data": {
      "text/plain": [
       "{'coord': {'lon': 126.9778, 'lat': 37.5683},\n",
       " 'weather': [{'id': 721,\n",
       "   'main': 'Haze',\n",
       "   'description': 'haze',\n",
       "   'icon': '50d'}],\n",
       " 'base': 'stations',\n",
       " 'main': {'temp': 303.36,\n",
       "  'feels_like': 307.72,\n",
       "  'temp_min': 302.81,\n",
       "  'temp_max': 303.91,\n",
       "  'pressure': 1012,\n",
       "  'humidity': 66},\n",
       " 'visibility': 6000,\n",
       " 'wind': {'speed': 1.54, 'deg': 170},\n",
       " 'clouds': {'all': 20},\n",
       " 'dt': 1689903982,\n",
       " 'sys': {'type': 1,\n",
       "  'id': 8105,\n",
       "  'country': 'KR',\n",
       "  'sunrise': 1689884782,\n",
       "  'sunset': 1689936610},\n",
       " 'timezone': 32400,\n",
       " 'id': 1835848,\n",
       " 'name': 'Seoul',\n",
       " 'cod': 200}"
      ]
     },
     "execution_count": 27,
     "metadata": {},
     "output_type": "execute_result"
    }
   ],
   "source": [
    "response = requests.get(url).json()\n",
    "response"
   ]
  },
  {
   "cell_type": "code",
   "execution_count": 41,
   "id": "1fc58583",
   "metadata": {},
   "outputs": [
    {
     "name": "stdout",
     "output_type": "stream",
     "text": [
      "캘빈 온도: 303.36K\n",
      "섭씨 온도:  30.21C\n"
     ]
    }
   ],
   "source": [
    "temp = response['main']['temp']\n",
    "temp_c = temp - 273.15\n",
    "print(f'캘빈 온도: {temp}K')\n",
    "print(f'섭씨 온도: {temp_c: .2f}C')"
   ]
  },
  {
   "cell_type": "code",
   "execution_count": 45,
   "id": "c71313c3",
   "metadata": {},
   "outputs": [
    {
     "name": "stdout",
     "output_type": "stream",
     "text": [
      "날씨 설명: haze\n"
     ]
    }
   ],
   "source": [
    "de = response['weather'][0]['description']\n",
    "print(f'날씨 설명: {de}')"
   ]
  },
  {
   "cell_type": "code",
   "execution_count": null,
   "id": "099f6d9c",
   "metadata": {},
   "outputs": [],
   "source": []
  }
 ],
 "metadata": {
  "kernelspec": {
   "display_name": "Python 3 (ipykernel)",
   "language": "python",
   "name": "python3"
  },
  "language_info": {
   "codemirror_mode": {
    "name": "ipython",
    "version": 3
   },
   "file_extension": ".py",
   "mimetype": "text/x-python",
   "name": "python",
   "nbconvert_exporter": "python",
   "pygments_lexer": "ipython3",
   "version": "3.9.13"
  }
 },
 "nbformat": 4,
 "nbformat_minor": 5
}
